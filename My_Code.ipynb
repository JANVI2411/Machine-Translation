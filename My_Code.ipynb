{
  "nbformat": 4,
  "nbformat_minor": 0,
  "metadata": {
    "kernelspec": {
      "display_name": "Python 3",
      "language": "python",
      "name": "python3"
    },
    "language_info": {
      "codemirror_mode": {
        "name": "ipython",
        "version": 3
      },
      "file_extension": ".py",
      "mimetype": "text/x-python",
      "name": "python",
      "nbconvert_exporter": "python",
      "pygments_lexer": "ipython3",
      "version": "3.7.3"
    },
    "colab": {
      "name": "My-Code.ipynb",
      "provenance": [],
      "toc_visible": true
    },
    "accelerator": "GPU"
  },
  "cells": [
    {
      "cell_type": "code",
      "metadata": {
        "id": "-FNIq7TPTpEj",
        "colab_type": "code",
        "colab": {}
      },
      "source": [
        "import os\n",
        "def load_data(path):\n",
        "   input_file = os.path.join(path)\n",
        "   with open(input_file, \"r\", encoding='utf-8') as f:\n",
        "       data = f.read()\n",
        "\n",
        "   return data.split('\\n')"
      ],
      "execution_count": 0,
      "outputs": []
    },
    {
      "cell_type": "code",
      "metadata": {
        "id": "mkSLPuTwIlWO",
        "colab_type": "code",
        "colab": {
          "base_uri": "https://localhost:8080/",
          "height": 34
        },
        "outputId": "5291d4e7-ad6f-4e0a-cdf7-013d1b86e6f2"
      },
      "source": [
        "import collections\n",
        "\n",
        "import helper\n",
        "import numpy as np\n",
        "# import project_tests as tests\n",
        "\n",
        "import tensorflow as tf\n",
        "from keras.preprocessing.text import Tokenizer\n",
        "from keras.preprocessing.sequence import pad_sequences\n",
        "from keras.models import Model\n",
        "from keras.layers import GRU, Input, Dense, TimeDistributed, Activation, RepeatVector, Bidirectional\n",
        "from keras.layers.embeddings import Embedding\n",
        "from keras.optimizers import Adam\n",
        "from keras.losses import sparse_categorical_crossentropy"
      ],
      "execution_count": 2,
      "outputs": [
        {
          "output_type": "stream",
          "text": [
            "Using TensorFlow backend.\n"
          ],
          "name": "stderr"
        }
      ]
    },
    {
      "cell_type": "code",
      "metadata": {
        "id": "ZwdbZFmpIlXE",
        "colab_type": "code",
        "colab": {}
      },
      "source": [
        "# Add-on : Check framework versions being used \n",
        "import tensorflow as tf\n",
        "import keras as K\n",
        "import sys"
      ],
      "execution_count": 0,
      "outputs": []
    },
    {
      "cell_type": "code",
      "metadata": {
        "id": "dyqWr1fYIlXf",
        "colab_type": "code",
        "colab": {}
      },
      "source": [
        "# Load English data\n",
        "english_sentences = load_data('small_vocab_en')\n",
        "# Load French data\n",
        "french_sentences = load_data('small_vocab_fr')"
      ],
      "execution_count": 0,
      "outputs": []
    },
    {
      "cell_type": "code",
      "metadata": {
        "id": "aMEQQIZxIlX1",
        "colab_type": "code",
        "colab": {
          "base_uri": "https://localhost:8080/",
          "height": 84
        },
        "outputId": "a0202455-987d-4af1-b627-62138184f283"
      },
      "source": [
        "for sample_i in range(2):\n",
        "    print('small_vocab_en Line {}:  {}'.format(sample_i + 1, english_sentences[sample_i]))\n",
        "    print('small_vocab_fr Line {}:  {}'.format(sample_i + 1, french_sentences[sample_i]))"
      ],
      "execution_count": 5,
      "outputs": [
        {
          "output_type": "stream",
          "text": [
            "small_vocab_en Line 1:  new jersey is sometimes quiet during autumn , and it is snowy in april .\n",
            "small_vocab_fr Line 1:  new jersey est parfois calme pendant l' automne , et il est neigeux en avril .\n",
            "small_vocab_en Line 2:  the united states is usually chilly during july , and it is usually freezing in november .\n",
            "small_vocab_fr Line 2:  les états-unis est généralement froid en juillet , et il gèle habituellement en novembre .\n"
          ],
          "name": "stdout"
        }
      ]
    },
    {
      "cell_type": "code",
      "metadata": {
        "id": "LcPqUCMgIlYU",
        "colab_type": "code",
        "colab": {
          "base_uri": "https://localhost:8080/",
          "height": 168
        },
        "outputId": "6eda78f1-9f90-4027-8f60-ef3f19eebf29"
      },
      "source": [
        "english_words_counter = collections.Counter([word for sentence in english_sentences for word in sentence.split()])\n",
        "french_words_counter = collections.Counter([word for sentence in french_sentences for word in sentence.split()])\n",
        "\n",
        "print('{} English words.'.format(len([word for sentence in english_sentences for word in sentence.split()])))\n",
        "print('{} unique English words.'.format(len(english_words_counter)))\n",
        "print('10 Most common words in the English dataset:')\n",
        "print('\"' + '\" \"'.join(list(zip(*english_words_counter.most_common(10)))[0]) + '\"')\n",
        "print()\n",
        "print('{} French words.'.format(len([word for sentence in french_sentences for word in sentence.split()])))\n",
        "print('{} unique French words.'.format(len(french_words_counter)))\n",
        "print('10 Most common words in the French dataset:')\n",
        "print('\"' + '\" \"'.join(list(zip(*french_words_counter.most_common(10)))[0]) + '\"')"
      ],
      "execution_count": 6,
      "outputs": [
        {
          "output_type": "stream",
          "text": [
            "1823250 English words.\n",
            "227 unique English words.\n",
            "10 Most common words in the English dataset:\n",
            "\"is\" \",\" \".\" \"in\" \"it\" \"during\" \"the\" \"but\" \"and\" \"sometimes\"\n",
            "\n",
            "1961295 French words.\n",
            "355 unique French words.\n",
            "10 Most common words in the French dataset:\n",
            "\"est\" \".\" \",\" \"en\" \"il\" \"les\" \"mais\" \"et\" \"la\" \"parfois\"\n"
          ],
          "name": "stdout"
        }
      ]
    },
    {
      "cell_type": "code",
      "metadata": {
        "id": "Qywhtf0RV-tj",
        "colab_type": "code",
        "colab": {
          "base_uri": "https://localhost:8080/",
          "height": 34
        },
        "outputId": "5db52977-fa8a-4f23-c595-8d454070a46c"
      },
      "source": [
        "english_words_counter['the']"
      ],
      "execution_count": 7,
      "outputs": [
        {
          "output_type": "execute_result",
          "data": {
            "text/plain": [
              "67628"
            ]
          },
          "metadata": {
            "tags": []
          },
          "execution_count": 7
        }
      ]
    },
    {
      "cell_type": "code",
      "metadata": {
        "id": "cJ9-to4yIlYw",
        "colab_type": "code",
        "colab": {
          "base_uri": "https://localhost:8080/",
          "height": 222
        },
        "outputId": "99a3db9c-8236-4eb9-aa46-dce1babffab4"
      },
      "source": [
        "def tokenize(x):\n",
        "    x_tk = Tokenizer()\n",
        "    x_tk.fit_on_texts(x)\n",
        "    return x_tk.texts_to_sequences(x), x_tk\n",
        "\n",
        "# tests.test_tokenize(tokenize)\n",
        "\n",
        "\n",
        "text_sentences = [\n",
        "    'The quick brown fox jumps over the lazy dog .',\n",
        "    'By Jove , my quick study of lexicography won a prize .',\n",
        "    'This is a short quick sentence .']\n",
        "\n",
        "text_tokenized, text_tokenizer = tokenize(text_sentences)\n",
        "print(text_tokenizer.word_index)\n",
        "\n",
        "print()\n",
        "\n",
        "for sample_i, (sent, token_sent) in enumerate(zip(text_sentences, text_tokenized)):\n",
        "    print('Sequence {} in x'.format(sample_i + 1))\n",
        "    print('  Input:  {}'.format(sent))\n",
        "    print('  Output: {}'.format(token_sent))"
      ],
      "execution_count": 8,
      "outputs": [
        {
          "output_type": "stream",
          "text": [
            "{'quick': 1, 'the': 2, 'a': 3, 'brown': 4, 'fox': 5, 'jumps': 6, 'over': 7, 'lazy': 8, 'dog': 9, 'by': 10, 'jove': 11, 'my': 12, 'study': 13, 'of': 14, 'lexicography': 15, 'won': 16, 'prize': 17, 'this': 18, 'is': 19, 'short': 20, 'sentence': 21}\n",
            "\n",
            "Sequence 1 in x\n",
            "  Input:  The quick brown fox jumps over the lazy dog .\n",
            "  Output: [2, 1, 4, 5, 6, 7, 2, 8, 9]\n",
            "Sequence 2 in x\n",
            "  Input:  By Jove , my quick study of lexicography won a prize .\n",
            "  Output: [10, 11, 12, 1, 13, 14, 15, 16, 3, 17]\n",
            "Sequence 3 in x\n",
            "  Input:  This is a short quick sentence .\n",
            "  Output: [18, 19, 3, 20, 1, 21]\n"
          ],
          "name": "stdout"
        }
      ]
    },
    {
      "cell_type": "code",
      "metadata": {
        "id": "8yxbfb6SIlZH",
        "colab_type": "code",
        "colab": {
          "base_uri": "https://localhost:8080/",
          "height": 168
        },
        "outputId": "0a93928a-7652-4435-dce4-f7f3ff980005"
      },
      "source": [
        "def pad(x, length=None):\n",
        "    \n",
        "    if length is None:\n",
        "        length = max([len(seq) for seq in x])\n",
        "    \n",
        "    return pad_sequences(sequences=x, maxlen=length, padding='post')\n",
        "\n",
        "# tests.test_pad(pad)\n",
        "\n",
        "# Pad Tokenized output\n",
        "test_pad = pad(text_tokenized)\n",
        "for sample_i, (token_sent, pad_sent) in enumerate(zip(text_tokenized, test_pad)):\n",
        "    print('Sequence {} in x'.format(sample_i + 1))\n",
        "    print('  Input:  {}'.format(np.array(token_sent)))\n",
        "    print('  Output: {}'.format(pad_sent))"
      ],
      "execution_count": 9,
      "outputs": [
        {
          "output_type": "stream",
          "text": [
            "Sequence 1 in x\n",
            "  Input:  [2 1 4 5 6 7 2 8 9]\n",
            "  Output: [2 1 4 5 6 7 2 8 9 0]\n",
            "Sequence 2 in x\n",
            "  Input:  [10 11 12  1 13 14 15 16  3 17]\n",
            "  Output: [10 11 12  1 13 14 15 16  3 17]\n",
            "Sequence 3 in x\n",
            "  Input:  [18 19  3 20  1 21]\n",
            "  Output: [18 19  3 20  1 21  0  0  0  0]\n"
          ],
          "name": "stdout"
        }
      ]
    },
    {
      "cell_type": "code",
      "metadata": {
        "id": "15v5elx_IlZb",
        "colab_type": "code",
        "colab": {
          "base_uri": "https://localhost:8080/",
          "height": 134
        },
        "outputId": "9cc67108-ad03-4dd6-e06b-ca3b019f91d9"
      },
      "source": [
        "def preprocess(x, y):\n",
        "   \n",
        "    preprocess_x, x_tk = tokenize(x)\n",
        "    preprocess_y, y_tk = tokenize(y)\n",
        "\n",
        "    preprocess_x = pad(preprocess_x)\n",
        "    preprocess_y = pad(preprocess_y)\n",
        "\n",
        "    preprocess_y = preprocess_y.reshape(preprocess_y.shape[0],preprocess_y.shape[1], 1)\n",
        "    print(preprocess_x.shape)\n",
        "    print(preprocess_y.shape)\n",
        "    return preprocess_x, preprocess_y, x_tk, y_tk\n",
        "\n",
        "preproc_english_sentences, preproc_french_sentences, english_tokenizer, french_tokenizer = preprocess(english_sentences, french_sentences)\n",
        "    \n",
        "max_english_sequence_length = preproc_english_sentences.shape[1]\n",
        "max_french_sequence_length = preproc_french_sentences.shape[1]\n",
        "english_vocab_size = len(english_tokenizer.word_index)\n",
        "french_vocab_size = len(french_tokenizer.word_index)\n",
        "\n",
        "print('Data Preprocessed')\n",
        "print(\"Max English sentence length:\", max_english_sequence_length)\n",
        "print(\"Max French sentence length:\", max_french_sequence_length)\n",
        "print(\"English vocabulary size:\", english_vocab_size)\n",
        "print(\"French vocabulary size:\", french_vocab_size)"
      ],
      "execution_count": 29,
      "outputs": [
        {
          "output_type": "stream",
          "text": [
            "(137861, 15)\n",
            "(137861, 21, 1)\n",
            "Data Preprocessed\n",
            "Max English sentence length: 15\n",
            "Max French sentence length: 21\n",
            "English vocabulary size: 199\n",
            "French vocabulary size: 344\n"
          ],
          "name": "stdout"
        }
      ]
    },
    {
      "cell_type": "code",
      "metadata": {
        "id": "G5eAdYmDWqMI",
        "colab_type": "code",
        "colab": {}
      },
      "source": [
        "# tokenizer.word_index"
      ],
      "execution_count": 0,
      "outputs": []
    },
    {
      "cell_type": "markdown",
      "metadata": {
        "id": "w1cFwvRKIlZp",
        "colab_type": "text"
      },
      "source": [
        "## Models\n",
        "\n",
        "- Model 1 is a simple RNN\n",
        "- Model 2 is a RNN with Embedding\n",
        "- Model 3 is a Bidirectional RNN\n",
        "- Model 4 is an optional Encoder-Decoder RNN"
      ]
    },
    {
      "cell_type": "code",
      "metadata": {
        "id": "7xdpe2q7IlZr",
        "colab_type": "code",
        "colab": {}
      },
      "source": [
        "def logits_to_text(logits, tokenizer):\n",
        "    \n",
        "    index_to_words = {id: word for word, id in tokenizer.word_index.items()}\n",
        "    index_to_words[0] = '<PAD>'\n",
        "\n",
        "    return ' '.join([index_to_words[prediction] for prediction in np.argmax(logits, 1)])\n"
      ],
      "execution_count": 0,
      "outputs": []
    },
    {
      "cell_type": "code",
      "metadata": {
        "id": "rTICDK5_IlaZ",
        "colab_type": "code",
        "colab": {}
      },
      "source": [
        "from keras.callbacks import TensorBoard\n",
        "from time import time\n",
        "tensorboard = TensorBoard(log_dir=\"logs/{}\".format(time()), histogram_freq=1, write_graph=True)"
      ],
      "execution_count": 0,
      "outputs": []
    },
    {
      "cell_type": "markdown",
      "metadata": {
        "id": "nXmHqveWIlal",
        "colab_type": "text"
      },
      "source": [
        "# Model-1-RNN"
      ]
    },
    {
      "cell_type": "code",
      "metadata": {
        "id": "L7HUssLNIlan",
        "colab_type": "code",
        "colab": {
          "base_uri": "https://localhost:8080/",
          "height": 218
        },
        "outputId": "c74e44f0-69a0-45ed-9f7d-60afa8cf841c"
      },
      "source": [
        "def simple_model(input_shape, output_sequence_length, english_vocab_size, french_vocab_size):\n",
        "   \n",
        "    input_seq = Input(shape=input_shape[1:])\n",
        "    rnn = GRU(units=english_vocab_size, return_sequences=True)(input_seq)\n",
        "    logits = TimeDistributed(Dense(units=french_vocab_size))(rnn) \n",
        "                             \n",
        "    model = Model(input_seq, Activation('softmax')(logits))\n",
        "\n",
        "    model.compile(loss=sparse_categorical_crossentropy,\n",
        "                  optimizer=Adam(lr=1e-3),\n",
        "                  metrics=['accuracy'])\n",
        "    return model\n",
        "\n",
        "tmp_x = pad(preproc_english_sentences, max_french_sequence_length)\n",
        "tmp_x = tmp_x.reshape((-1, preproc_french_sentences.shape[1], 1))\n",
        "\n",
        "simple_rnn_model = simple_model(\n",
        "    tmp_x.shape,\n",
        "    max_french_sequence_length,\n",
        "    english_vocab_size+1,\n",
        "    french_vocab_size+1)\n",
        "\n",
        "simple_rnn_model.fit(tmp_x, preproc_french_sentences, batch_size=1024, epochs=5, validation_split=0.2)\n",
        "\n",
        "print(logits_to_text(simple_rnn_model.predict(tmp_x[:1])[0], french_tokenizer))"
      ],
      "execution_count": 31,
      "outputs": [
        {
          "output_type": "stream",
          "text": [
            "Train on 110288 samples, validate on 27573 samples\n",
            "Epoch 1/5\n",
            "110288/110288 [==============================] - 9s 84us/step - loss: 2.7130 - accuracy: 0.4615 - val_loss: 2.0535 - val_accuracy: 0.5357\n",
            "Epoch 2/5\n",
            "110288/110288 [==============================] - 9s 81us/step - loss: 1.7775 - accuracy: 0.5697 - val_loss: 1.6026 - val_accuracy: 0.5929\n",
            "Epoch 3/5\n",
            "110288/110288 [==============================] - 9s 81us/step - loss: 1.5204 - accuracy: 0.5980 - val_loss: 1.4494 - val_accuracy: 0.6068\n",
            "Epoch 4/5\n",
            "110288/110288 [==============================] - 9s 84us/step - loss: 1.3963 - accuracy: 0.6150 - val_loss: 1.3452 - val_accuracy: 0.6205\n",
            "Epoch 5/5\n",
            "110288/110288 [==============================] - 9s 82us/step - loss: 1.3038 - accuracy: 0.6331 - val_loss: 1.2625 - val_accuracy: 0.6435\n",
            "new jersey est parfois chaud en l' et il il est en en <PAD> <PAD> <PAD> <PAD> <PAD> <PAD> <PAD> <PAD>\n"
          ],
          "name": "stdout"
        }
      ]
    },
    {
      "cell_type": "code",
      "metadata": {
        "id": "7AxL02IelNvH",
        "colab_type": "code",
        "colab": {
          "base_uri": "https://localhost:8080/",
          "height": 34
        },
        "outputId": "b244876b-ad20-4813-a5c8-d4e841bcdbbf"
      },
      "source": [
        "simple_rnn_model.predict(tmp_x[:1]).shape"
      ],
      "execution_count": 45,
      "outputs": [
        {
          "output_type": "execute_result",
          "data": {
            "text/plain": [
              "(1, 21, 345)"
            ]
          },
          "metadata": {
            "tags": []
          },
          "execution_count": 45
        }
      ]
    },
    {
      "cell_type": "code",
      "metadata": {
        "id": "qTKRL6WDgqIc",
        "colab_type": "code",
        "colab": {
          "base_uri": "https://localhost:8080/",
          "height": 286
        },
        "outputId": "d1e84f3d-682f-4563-bb20-3dcf05f1594c"
      },
      "source": [
        "simple_rnn_model.summary()"
      ],
      "execution_count": 21,
      "outputs": [
        {
          "output_type": "stream",
          "text": [
            "Model: \"model_2\"\n",
            "_________________________________________________________________\n",
            "Layer (type)                 Output Shape              Param #   \n",
            "=================================================================\n",
            "input_2 (InputLayer)         (None, 21, 1)             0         \n",
            "_________________________________________________________________\n",
            "gru_2 (GRU)                  (None, 21, 200)           121200    \n",
            "_________________________________________________________________\n",
            "time_distributed_2 (TimeDist (None, 21, 345)           69345     \n",
            "_________________________________________________________________\n",
            "activation_2 (Activation)    (None, 21, 345)           0         \n",
            "=================================================================\n",
            "Total params: 190,545\n",
            "Trainable params: 190,545\n",
            "Non-trainable params: 0\n",
            "_________________________________________________________________\n"
          ],
          "name": "stdout"
        }
      ]
    },
    {
      "cell_type": "markdown",
      "metadata": {
        "id": "SaEA1_B0Ila-",
        "colab_type": "text"
      },
      "source": [
        "# Model-2-Embedding"
      ]
    },
    {
      "cell_type": "code",
      "metadata": {
        "id": "4b0VtmlAIlbA",
        "colab_type": "code",
        "colab": {
          "base_uri": "https://localhost:8080/",
          "height": 289
        },
        "outputId": "059635d0-4f14-4c71-9cd0-93321ec1c5c4"
      },
      "source": [
        "def embed_model(input_shape, output_sequence_length, english_vocab_size, french_vocab_size):\n",
        "   \n",
        "    embedding_size = 128\n",
        "    rnn_cells = 200\n",
        "    dropout = 0.0\n",
        "    learning_rate = 1e-3\n",
        "   \n",
        "    input_seq = Input(shape=input_shape[1:])\n",
        "     \n",
        "    embedded_seq = Embedding(input_dim = english_vocab_size, \n",
        "                             output_dim = embedding_size,\n",
        "                             input_length=input_shape[1:][0])(input_seq)\n",
        "    \n",
        "    rnn = GRU(units=rnn_cells, dropout=dropout, return_sequences=True)(embedded_seq)\n",
        "    logits = TimeDistributed(Dense(units=french_vocab_size))(rnn) \n",
        "    model = Model(input_seq, Activation('softmax')(logits))\n",
        "\n",
        "    model.compile(loss=sparse_categorical_crossentropy,\n",
        "                  optimizer=Adam(lr=learning_rate),\n",
        "                  metrics=['accuracy'])\n",
        "    return model    \n",
        "    \n",
        "# tests.test_embed_model(embed_model)\n",
        "\n",
        "\n",
        "tmp_x = pad(preproc_english_sentences, max_french_sequence_length)\n",
        "\n",
        "embed_rnn_model = embed_model(input_shape = tmp_x.shape,\n",
        "                              output_sequence_length = max_french_sequence_length,\n",
        "                              english_vocab_size = english_vocab_size+1,\n",
        "                              french_vocab_size = french_vocab_size+1)\n",
        "\n",
        "\n",
        "embed_rnn_model.fit(tmp_x, preproc_french_sentences, batch_size=1024, epochs=5, validation_split=0.2)\n",
        "\n",
        "print(logits_to_text(embed_rnn_model.predict(tmp_x[:1])[0], french_tokenizer))"
      ],
      "execution_count": 47,
      "outputs": [
        {
          "output_type": "stream",
          "text": [
            "Tensor(\"gru_10/transpose_1:0\", shape=(None, 21, 200), dtype=float32)\n"
          ],
          "name": "stdout"
        },
        {
          "output_type": "stream",
          "text": [
            "/usr/local/lib/python3.6/dist-packages/tensorflow/python/framework/indexed_slices.py:434: UserWarning: Converting sparse IndexedSlices to a dense Tensor of unknown shape. This may consume a large amount of memory.\n",
            "  \"Converting sparse IndexedSlices to a dense Tensor of unknown shape. \"\n"
          ],
          "name": "stderr"
        },
        {
          "output_type": "stream",
          "text": [
            "Train on 110288 samples, validate on 27573 samples\n",
            "Epoch 1/5\n",
            "110288/110288 [==============================] - 10s 95us/step - loss: 3.2288 - accuracy: 0.4162 - val_loss: 2.5406 - val_accuracy: 0.4787\n",
            "Epoch 2/5\n",
            "110288/110288 [==============================] - 10s 89us/step - loss: 2.0423 - accuracy: 0.5524 - val_loss: 1.5588 - val_accuracy: 0.6311\n",
            "Epoch 3/5\n",
            "110288/110288 [==============================] - 10s 91us/step - loss: 1.3156 - accuracy: 0.6799 - val_loss: 1.1096 - val_accuracy: 0.7337\n",
            "Epoch 4/5\n",
            "110288/110288 [==============================] - 10s 91us/step - loss: 0.9561 - accuracy: 0.7630 - val_loss: 0.8190 - val_accuracy: 0.7867\n",
            "Epoch 5/5\n",
            "110288/110288 [==============================] - 10s 89us/step - loss: 0.7234 - accuracy: 0.8052 - val_loss: 0.6392 - val_accuracy: 0.8214\n",
            "new jersey est parfois calme en l'automne et il est neigeux en avril <PAD> <PAD> <PAD> <PAD> <PAD> <PAD> <PAD> <PAD>\n"
          ],
          "name": "stdout"
        }
      ]
    },
    {
      "cell_type": "markdown",
      "metadata": {
        "id": "tIYUBxx2IlbO",
        "colab_type": "text"
      },
      "source": [
        "# Model-3-BiDirectional RNN"
      ]
    },
    {
      "cell_type": "code",
      "metadata": {
        "id": "6HfWTMrXIlbS",
        "colab_type": "code",
        "colab": {
          "base_uri": "https://localhost:8080/",
          "height": 235
        },
        "outputId": "a38fc406-e572-4ea8-a007-939d5a6e833b"
      },
      "source": [
        "def bd_model(input_shape, output_sequence_length, english_vocab_size, french_vocab_size):\n",
        "   \n",
        "    dropout = 0.0\n",
        "    learning_rate = 1e-3\n",
        "    \n",
        "    # Choose Sequential or Functional API implementation ('seq' or 'func')\n",
        "    impl='seq'   \n",
        "    if impl=='func':\n",
        "        # Sequential Model \n",
        "        print(\"Using Sequential model (Note: this version makes the unitary test to fail: Disable tests to use it)\")\n",
        "        from keras.models import Sequential\n",
        "        model = Sequential()\n",
        "        model.add(Bidirectional(GRU(english_vocab_size, dropout=dropout, return_sequences=True)))\n",
        "        model.add(Dense(french_vocab_size, activation='softmax'))\n",
        "        \n",
        "    else:\n",
        "        # model's Functional equivalent\n",
        "        # Note : we could have also used \"Bidirectional(GRU(...))\" instead of buidling the Bidirectional RNNS manually\n",
        "        print(\"Using Functional API\")\n",
        "        from keras.layers import concatenate, add\n",
        "        input_seq = Input(shape=input_shape[1:])\n",
        "        right_rnn = GRU(units=english_vocab_size, return_sequences=True, go_backwards=False)(input_seq)\n",
        "        left_rnn = GRU(units=english_vocab_size, return_sequences=True, go_backwards=True)(input_seq)\n",
        "\n",
        "        # Choose how to merge the 2 rnn layers : add or concatenate\n",
        "        #logits = TimeDistributed(Dense(units=french_vocab_size))(add([right_rnn, left_rnn])) \n",
        "        logits = TimeDistributed(Dense(units=french_vocab_size))(concatenate([right_rnn, left_rnn])) \n",
        "        \n",
        "        model = Model(input_seq, Activation('softmax')(logits))\n",
        "\n",
        "    model.compile(loss=sparse_categorical_crossentropy,\n",
        "                  optimizer=Adam(lr=learning_rate),\n",
        "                  metrics=['accuracy'])\n",
        "  \n",
        "    return model\n",
        "   \n",
        "\n",
        "\n",
        "tmp_x = pad(preproc_english_sentences, max_french_sequence_length)\n",
        "tmp_x = tmp_x.reshape((-1, preproc_french_sentences.shape[1], 1)) # convert it to 3 dimention\n",
        "\n",
        "bd_rnn_model = bd_model(input_shape = tmp_x.shape,\n",
        "                           output_sequence_length = max_french_sequence_length,\n",
        "                           english_vocab_size = english_vocab_size+1,\n",
        "                           french_vocab_size = french_vocab_size+1)\n",
        "\n",
        "\n",
        "bd_rnn_model.fit(tmp_x, preproc_french_sentences, batch_size=1024, epochs=5, validation_split=0.2)\n",
        "\n",
        "print(logits_to_text(bd_rnn_model.predict(tmp_x[:1])[0], french_tokenizer))"
      ],
      "execution_count": 19,
      "outputs": [
        {
          "output_type": "stream",
          "text": [
            "Using Functional API\n",
            "Train on 110288 samples, validate on 27573 samples\n",
            "Epoch 1/5\n",
            "110288/110288 [==============================] - 16s 147us/step - loss: 2.5390 - accuracy: 0.4824 - val_loss: 1.8784 - val_accuracy: 0.5624\n",
            "Epoch 2/5\n",
            "110288/110288 [==============================] - 15s 139us/step - loss: 1.6599 - accuracy: 0.5853 - val_loss: 1.5188 - val_accuracy: 0.6022\n",
            "Epoch 3/5\n",
            "110288/110288 [==============================] - 15s 139us/step - loss: 1.4386 - accuracy: 0.6128 - val_loss: 1.3717 - val_accuracy: 0.6234\n",
            "Epoch 4/5\n",
            "110288/110288 [==============================] - 15s 138us/step - loss: 1.3166 - accuracy: 0.6332 - val_loss: 1.2668 - val_accuracy: 0.6372\n",
            "Epoch 5/5\n",
            "110288/110288 [==============================] - 15s 136us/step - loss: 1.2300 - accuracy: 0.6468 - val_loss: 1.1948 - val_accuracy: 0.6515\n",
            "paris jersey est parfois calme en l' et il est il est en <PAD> <PAD> <PAD> <PAD> <PAD> <PAD> <PAD> <PAD>\n"
          ],
          "name": "stdout"
        }
      ]
    },
    {
      "cell_type": "code",
      "metadata": {
        "id": "OK7zipwrghKd",
        "colab_type": "code",
        "colab": {
          "base_uri": "https://localhost:8080/",
          "height": 370
        },
        "outputId": "73b72a5d-167e-4236-8e27-b68ff59b820b"
      },
      "source": [
        "bd_rnn_model.summary()"
      ],
      "execution_count": 20,
      "outputs": [
        {
          "output_type": "stream",
          "text": [
            "Model: \"model_4\"\n",
            "__________________________________________________________________________________________________\n",
            "Layer (type)                    Output Shape         Param #     Connected to                     \n",
            "==================================================================================================\n",
            "input_4 (InputLayer)            (None, 21, 1)        0                                            \n",
            "__________________________________________________________________________________________________\n",
            "gru_4 (GRU)                     (None, 21, 200)      121200      input_4[0][0]                    \n",
            "__________________________________________________________________________________________________\n",
            "gru_5 (GRU)                     (None, 21, 200)      121200      input_4[0][0]                    \n",
            "__________________________________________________________________________________________________\n",
            "concatenate_1 (Concatenate)     (None, 21, 400)      0           gru_4[0][0]                      \n",
            "                                                                 gru_5[0][0]                      \n",
            "__________________________________________________________________________________________________\n",
            "time_distributed_4 (TimeDistrib (None, 21, 345)      138345      concatenate_1[0][0]              \n",
            "__________________________________________________________________________________________________\n",
            "activation_4 (Activation)       (None, 21, 345)      0           time_distributed_4[0][0]         \n",
            "==================================================================================================\n",
            "Total params: 380,745\n",
            "Trainable params: 380,745\n",
            "Non-trainable params: 0\n",
            "__________________________________________________________________________________________________\n"
          ],
          "name": "stdout"
        }
      ]
    },
    {
      "cell_type": "markdown",
      "metadata": {
        "id": "n-TCzhNtIlbl",
        "colab_type": "text"
      },
      "source": [
        "# Model 4: Encoder-Decoder "
      ]
    },
    {
      "cell_type": "code",
      "metadata": {
        "id": "zsFK-KM8Ilbn",
        "colab_type": "code",
        "colab": {
          "base_uri": "https://localhost:8080/",
          "height": 218
        },
        "outputId": "08c794a6-1ba8-4582-95ea-de19e63a2965"
      },
      "source": [
        "def encdec_model(input_shape, output_sequence_length, english_vocab_size, french_vocab_size):\n",
        "   \n",
        "    embedding_size = 128\n",
        "    rnn_cells = 200\n",
        "    dropout = 0.0\n",
        "    learning_rate = 1e-3\n",
        "    \n",
        "    from keras.layers import LSTM\n",
        "    \n",
        "    encoder_input_seq = Input(shape=input_shape[1:], name=\"enc_input\")\n",
        " \n",
        "    # Encoder (Return the internal states of the RNN -> 1 hidden state for GRU cells, 2 hidden states for LSTM cells))\n",
        "    encoder_output, state_t = GRU(units=rnn_cells, \n",
        "                                  dropout=dropout,\n",
        "                                  return_sequences=False,\n",
        "                                  return_state=True,\n",
        "                                  name=\"enc_rnn\")(encoder_input_seq)\n",
        "    #for LSTM cells: encoder_output, state_h, state_c = LSTM(...)\n",
        "        \n",
        "    # Decoder Input   \n",
        "    decoder_input_seq = RepeatVector(output_sequence_length)(encoder_output)\n",
        "\n",
        "    # Decoder RNN (Take the encoder returned states as initial states)\n",
        "    decoder_out = GRU(units=rnn_cells,\n",
        "                      dropout=dropout,\n",
        "                      return_sequences=True,\n",
        "                      return_state=False)(decoder_input_seq, initial_state=state_t)\n",
        "    #for LSTM cells: (decoder_input_seq, initial_state=[state_h, state_c])\n",
        "    \n",
        "    # Decoder output \n",
        "    logits = TimeDistributed(Dense(units=french_vocab_size))(decoder_out) \n",
        "    \n",
        "    # Model\n",
        "    model = Model(encoder_input_seq, Activation('softmax')(logits))\n",
        "    model.compile(loss=sparse_categorical_crossentropy,\n",
        "                  optimizer=Adam(lr=learning_rate),\n",
        "                  metrics=['accuracy'])\n",
        "     \n",
        "    return model    \n",
        "\n",
        "tmp_x = pad(preproc_english_sentences, max_french_sequence_length)\n",
        "tmp_x = tmp_x.reshape((-1, preproc_french_sentences.shape[-2], 1))\n",
        "\n",
        "encdec_rnn_model = encdec_model(input_shape = tmp_x.shape,\n",
        "                                output_sequence_length = max_french_sequence_length,\n",
        "                                english_vocab_size = english_vocab_size+1,\n",
        "                                french_vocab_size = french_vocab_size+1)\n",
        "    \n",
        "\n",
        "encdec_rnn_model.fit(tmp_x, preproc_french_sentences, batch_size=1024, epochs=5, validation_split=0.2) # callbacks=[tensorboard]\n",
        "\n",
        "print(logits_to_text(encdec_rnn_model.predict(tmp_x[:1])[0], french_tokenizer))\n",
        "    \n",
        " "
      ],
      "execution_count": 22,
      "outputs": [
        {
          "output_type": "stream",
          "text": [
            "Train on 110288 samples, validate on 27573 samples\n",
            "Epoch 1/5\n",
            "110288/110288 [==============================] - 17s 155us/step - loss: 2.8501 - accuracy: 0.4584 - val_loss: 2.2078 - val_accuracy: 0.5154\n",
            "Epoch 2/5\n",
            "110288/110288 [==============================] - 16s 148us/step - loss: 2.0137 - accuracy: 0.5365 - val_loss: 1.8046 - val_accuracy: 0.5571\n",
            "Epoch 3/5\n",
            "110288/110288 [==============================] - 16s 148us/step - loss: 1.6673 - accuracy: 0.5688 - val_loss: 1.6150 - val_accuracy: 0.5669\n",
            "Epoch 4/5\n",
            "110288/110288 [==============================] - 16s 146us/step - loss: 1.5485 - accuracy: 0.5829 - val_loss: 1.4995 - val_accuracy: 0.5926\n",
            "Epoch 5/5\n",
            "110288/110288 [==============================] - 16s 146us/step - loss: 1.4644 - accuracy: 0.6001 - val_loss: 1.4253 - val_accuracy: 0.6094\n",
            "new jersey est parfois en en mois et il est est en en en <PAD> <PAD> <PAD> <PAD> <PAD> <PAD> <PAD>\n"
          ],
          "name": "stdout"
        }
      ]
    },
    {
      "cell_type": "markdown",
      "metadata": {
        "id": "FHog0uxGIlb2",
        "colab_type": "text"
      },
      "source": [
        "# Model 5: Custom "
      ]
    },
    {
      "cell_type": "code",
      "metadata": {
        "id": "3lNPwxjDIlb8",
        "colab_type": "code",
        "colab": {
          "base_uri": "https://localhost:8080/",
          "height": 1000
        },
        "outputId": "88214fac-3c7c-4921-9f23-59924d4763bc"
      },
      "source": [
        "def model_final(input_shape, output_sequence_length, english_vocab_size, french_vocab_size):\n",
        "   \n",
        "    embedding_size = 128\n",
        "    rnn_cells = 300\n",
        "    dropout = 0.2\n",
        "    learning_rate = 1e-3\n",
        "    \n",
        "    from keras.layers import LSTM, concatenate\n",
        "    \n",
        "    encoder_input_seq = Input(shape=input_shape[1:]) \n",
        "    embedded_input_seq = Embedding(input_dim = english_vocab_size,\n",
        "                                   output_dim = embedding_size,\n",
        "                                   input_length=input_shape[1:][0])(encoder_input_seq)\n",
        "    \n",
        "    ## Note Bidirectional LSTM is used on the encoder side (see https://arxiv.org/pdf/1609.08144.pdf )\n",
        "    ## Alternate version : Encoder RNN Bidirectional layer (Using the Keras Bidirectional layer wrappers)\n",
        "    #encoder_output, forward_state_h, forward_state_c, backward_state_h, backward_state_c = Bidirectional(LSTM(units=rnn_cells,\n",
        "    #                                                                                                          dropout=dropout,\n",
        "    #                                                                                                          return_sequences=False,\n",
        "    #                                                                                                          return_state=True))(embedded_input_seq)\n",
        "    \n",
        "    # Encoder Forward RNN layer\n",
        "    encoder_forward_output, forward_state_h, forward_state_c = LSTM(units=rnn_cells,\n",
        "                                                                    dropout=dropout,\n",
        "                                                                    return_sequences=False,\n",
        "                                                                    return_state=True,\n",
        "                                                                    go_backwards=False)(embedded_input_seq)\n",
        "    \n",
        "    # Encoder backward RNN layer\n",
        "    encoder_backward_output, backward_state_h, backward_state_c = LSTM(units=rnn_cells,\n",
        "                                                                       dropout=dropout,\n",
        "                                                                       return_sequences=False,\n",
        "                                                                       return_state=True,\n",
        "                                                                       go_backwards=True)(embedded_input_seq)\n",
        "    \n",
        "    # Encoder output and states : Merge the LSTM Forward and Backward ouputs (using 'concatenate' method) \n",
        "    state_h = concatenate([forward_state_h, backward_state_h]) \n",
        "    state_c = concatenate([forward_state_c, backward_state_c])    \n",
        "    encoder_output = concatenate([encoder_forward_output, encoder_backward_output])        \n",
        "         \n",
        "    # Decoder Input   \n",
        "    decoder_input_seq = RepeatVector(output_sequence_length)(encoder_output)\n",
        "    \n",
        "    # Decoder RNN layer\n",
        "    # Note : we need twice more LSTM cells as we have concatenated backward and forward LSTM layers in encoder\n",
        "    decoder_output = LSTM(units=rnn_cells*2,\n",
        "                                  dropout=dropout,\n",
        "                                  return_sequences=True,\n",
        "                                  return_state=False,\n",
        "                                  go_backwards=False)(decoder_input_seq, initial_state=[state_h, state_c])\n",
        "    \n",
        "    # Decoder output\n",
        "    logits = TimeDistributed(Dense(units=french_vocab_size))(decoder_output) \n",
        "    \n",
        "    # Model\n",
        "    model = Model(encoder_input_seq, Activation('softmax')(logits))\n",
        "    model.compile(loss=sparse_categorical_crossentropy,\n",
        "                  optimizer=Adam(lr=learning_rate),\n",
        "                  metrics=['accuracy'])\n",
        "    \n",
        "    return model    \n",
        " \n",
        "tmp_x = pad(preproc_english_sentences, max_french_sequence_length)\n",
        "\n",
        "final_rnn_model = model_final(input_shape = tmp_x.shape,\n",
        "                              output_sequence_length = max_french_sequence_length,\n",
        "                              english_vocab_size = english_vocab_size+1,\n",
        "                              french_vocab_size = french_vocab_size+1)\n",
        "\n",
        "print(final_rnn_model.summary(line_length=125))\n",
        "\n",
        "\n",
        "final_rnn_model.fit(tmp_x, preproc_french_sentences, batch_size=1024, epochs=10, validation_split=0.2)\n",
        "\n",
        "# Print prediction(s)\n",
        "print(logits_to_text(final_rnn_model.predict(tmp_x[:1])[0], french_tokenizer))\n",
        "    "
      ],
      "execution_count": 48,
      "outputs": [
        {
          "output_type": "stream",
          "text": [
            "Model: \"model_8\"\n",
            "_____________________________________________________________________________________________________________________________\n",
            "Layer (type)                             Output Shape               Param #        Connected to                              \n",
            "=============================================================================================================================\n",
            "input_9 (InputLayer)                     (None, 21)                 0                                                        \n",
            "_____________________________________________________________________________________________________________________________\n",
            "embedding_4 (Embedding)                  (None, 21, 128)            25600          input_9[0][0]                             \n",
            "_____________________________________________________________________________________________________________________________\n",
            "lstm_1 (LSTM)                            [(None, 300), (None, 300), 514800         embedding_4[0][0]                         \n",
            "_____________________________________________________________________________________________________________________________\n",
            "lstm_2 (LSTM)                            [(None, 300), (None, 300), 514800         embedding_4[0][0]                         \n",
            "_____________________________________________________________________________________________________________________________\n",
            "concatenate_4 (Concatenate)              (None, 600)                0              lstm_1[0][0]                              \n",
            "                                                                                   lstm_2[0][0]                              \n",
            "_____________________________________________________________________________________________________________________________\n",
            "repeat_vector_2 (RepeatVector)           (None, 21, 600)            0              concatenate_4[0][0]                       \n",
            "_____________________________________________________________________________________________________________________________\n",
            "concatenate_2 (Concatenate)              (None, 600)                0              lstm_1[0][1]                              \n",
            "                                                                                   lstm_2[0][1]                              \n",
            "_____________________________________________________________________________________________________________________________\n",
            "concatenate_3 (Concatenate)              (None, 600)                0              lstm_1[0][2]                              \n",
            "                                                                                   lstm_2[0][2]                              \n",
            "_____________________________________________________________________________________________________________________________\n",
            "lstm_3 (LSTM)                            (None, 21, 600)            2882400        repeat_vector_2[0][0]                     \n",
            "                                                                                   concatenate_2[0][0]                       \n",
            "                                                                                   concatenate_3[0][0]                       \n",
            "_____________________________________________________________________________________________________________________________\n",
            "time_distributed_8 (TimeDistributed)     (None, 21, 345)            207345         lstm_3[0][0]                              \n",
            "_____________________________________________________________________________________________________________________________\n",
            "activation_8 (Activation)                (None, 21, 345)            0              time_distributed_8[0][0]                  \n",
            "=============================================================================================================================\n",
            "Total params: 4,144,945\n",
            "Trainable params: 4,144,945\n",
            "Non-trainable params: 0\n",
            "_____________________________________________________________________________________________________________________________\n",
            "None\n"
          ],
          "name": "stdout"
        },
        {
          "output_type": "stream",
          "text": [
            "/usr/local/lib/python3.6/dist-packages/tensorflow/python/framework/indexed_slices.py:434: UserWarning: Converting sparse IndexedSlices to a dense Tensor of unknown shape. This may consume a large amount of memory.\n",
            "  \"Converting sparse IndexedSlices to a dense Tensor of unknown shape. \"\n"
          ],
          "name": "stderr"
        },
        {
          "output_type": "stream",
          "text": [
            "Train on 110288 samples, validate on 27573 samples\n",
            "Epoch 1/10\n",
            "110288/110288 [==============================] - 39s 355us/step - loss: 2.5213 - accuracy: 0.4861 - val_loss: 1.6784 - val_accuracy: 0.5771\n",
            "Epoch 2/10\n",
            "110288/110288 [==============================] - 38s 343us/step - loss: 1.5167 - accuracy: 0.5987 - val_loss: 1.3257 - val_accuracy: 0.6321\n",
            "Epoch 3/10\n",
            "110288/110288 [==============================] - 38s 347us/step - loss: 1.2263 - accuracy: 0.6620 - val_loss: 1.0831 - val_accuracy: 0.6969\n",
            "Epoch 4/10\n",
            "110288/110288 [==============================] - 38s 347us/step - loss: 1.0324 - accuracy: 0.7053 - val_loss: 0.9341 - val_accuracy: 0.7292\n",
            "Epoch 5/10\n",
            "110288/110288 [==============================] - 38s 349us/step - loss: 0.9120 - accuracy: 0.7308 - val_loss: 0.8321 - val_accuracy: 0.7493\n",
            "Epoch 6/10\n",
            "110288/110288 [==============================] - 38s 344us/step - loss: 0.8062 - accuracy: 0.7555 - val_loss: 0.7764 - val_accuracy: 0.7625\n",
            "Epoch 7/10\n",
            "110288/110288 [==============================] - 38s 347us/step - loss: 0.7165 - accuracy: 0.7827 - val_loss: 0.6319 - val_accuracy: 0.8093\n",
            "Epoch 8/10\n",
            "110288/110288 [==============================] - 38s 347us/step - loss: 0.6268 - accuracy: 0.8092 - val_loss: 0.5599 - val_accuracy: 0.8324\n",
            "Epoch 9/10\n",
            "110288/110288 [==============================] - 38s 345us/step - loss: 0.5417 - accuracy: 0.8345 - val_loss: 0.4775 - val_accuracy: 0.8559\n",
            "Epoch 10/10\n",
            "110288/110288 [==============================] - 38s 343us/step - loss: 0.4740 - accuracy: 0.8542 - val_loss: 0.3993 - val_accuracy: 0.8802\n",
            "new jersey est parfois calme à l'automne et il est neigeux en avril <PAD> <PAD> <PAD> <PAD> <PAD> <PAD> <PAD> <PAD>\n"
          ],
          "name": "stdout"
        }
      ]
    },
    {
      "cell_type": "markdown",
      "metadata": {
        "id": "ONR88MXaIlcK",
        "colab_type": "text"
      },
      "source": [
        "## Prediction"
      ]
    },
    {
      "cell_type": "code",
      "metadata": {
        "id": "T2Ekk_nQIlcL",
        "colab_type": "code",
        "colab": {}
      },
      "source": [
        "def final_predictions(x, y, x_tk, y_tk):\n",
        "   \n",
        "    model = model_final(input_shape = x.shape,\n",
        "                        output_sequence_length = y.shape[1],\n",
        "                        english_vocab_size = len(x_tk.word_index)+1,\n",
        "                        french_vocab_size = len(y_tk.word_index)+1)\n",
        "\n",
        "    model.fit(x, y, batch_size=1024, epochs=20, validation_split=0.2)\n",
        "    \n",
        "    y_id_to_word = {value: key for key, value in y_tk.word_index.items()}\n",
        "    y_id_to_word[0] = '<PAD>'\n",
        "\n",
        "    sentence = 'he saw a old yellow truck'\n",
        "    sentence = [x_tk.word_index[word] for word in sentence.split()]\n",
        "    sentence = pad_sequences([sentence], maxlen=x.shape[-1], padding='post')\n",
        "    sentences = np.array([sentence[0], x[0]])\n",
        "    predictions = model.predict(sentences, len(sentences))\n",
        "\n",
        "    print('Sample 1:')\n",
        "    print(' '.join([y_id_to_word[np.argmax(x)] for x in predictions[0]]))\n",
        "    print('Il a vu un vieux camion jaune')\n",
        "    print('Sample 2:')\n",
        "    print(' '.join([y_id_to_word[np.argmax(x)] for x in predictions[1]]))\n",
        "    print(' '.join([y_id_to_word[np.max(x)] for x in y[0]]))\n",
        "\n",
        "final_predictions(preproc_english_sentences, preproc_french_sentences, english_tokenizer, french_tokenizer)"
      ],
      "execution_count": 0,
      "outputs": []
    },
    {
      "cell_type": "code",
      "metadata": {
        "id": "27Vzwm0wIlcg",
        "colab_type": "code",
        "colab": {}
      },
      "source": [
        ""
      ],
      "execution_count": 0,
      "outputs": []
    }
  ]
}